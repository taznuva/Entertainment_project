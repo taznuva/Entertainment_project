{
 "cells": [
  {
   "cell_type": "code",
   "execution_count": 38,
   "id": "34c3a4f2",
   "metadata": {},
   "outputs": [],
   "source": [
    "# Import our dependencies\n",
    "import pandas as pd\n",
    "import sklearn as skl\n",
    "from sklearn.preprocessing import OneHotEncoder\n",
    "from sklearn.model_selection import train_test_split\n",
    "import tensorflow as tf\n",
    "from sklearn import tree\n",
    "from sklearn.preprocessing import StandardScaler\n",
    "from sklearn.metrics import confusion_matrix, accuracy_score, classification_report"
   ]
  },
  {
   "cell_type": "code",
   "execution_count": 39,
   "id": "0e5e8d10",
   "metadata": {},
   "outputs": [
    {
     "data": {
      "text/html": [
       "<div>\n",
       "<style scoped>\n",
       "    .dataframe tbody tr th:only-of-type {\n",
       "        vertical-align: middle;\n",
       "    }\n",
       "\n",
       "    .dataframe tbody tr th {\n",
       "        vertical-align: top;\n",
       "    }\n",
       "\n",
       "    .dataframe thead th {\n",
       "        text-align: right;\n",
       "    }\n",
       "</style>\n",
       "<table border=\"1\" class=\"dataframe\">\n",
       "  <thead>\n",
       "    <tr style=\"text-align: right;\">\n",
       "      <th></th>\n",
       "      <th>name</th>\n",
       "      <th>platform</th>\n",
       "      <th>r-date</th>\n",
       "      <th>score</th>\n",
       "      <th>user score</th>\n",
       "      <th>developer</th>\n",
       "      <th>genre</th>\n",
       "      <th>players</th>\n",
       "      <th>critics</th>\n",
       "      <th>users</th>\n",
       "    </tr>\n",
       "  </thead>\n",
       "  <tbody>\n",
       "    <tr>\n",
       "      <th>0</th>\n",
       "      <td>The Legend of Zelda: Ocarina of Time</td>\n",
       "      <td>Nintendo64</td>\n",
       "      <td>23-Nov-98</td>\n",
       "      <td>99</td>\n",
       "      <td>9.1</td>\n",
       "      <td>Nintendo</td>\n",
       "      <td>Action Adventure,Fantasy</td>\n",
       "      <td>1 Player</td>\n",
       "      <td>22</td>\n",
       "      <td>5749</td>\n",
       "    </tr>\n",
       "    <tr>\n",
       "      <th>1</th>\n",
       "      <td>Tony Hawk's Pro Skater 2</td>\n",
       "      <td>PlayStation</td>\n",
       "      <td>20-Sep-00</td>\n",
       "      <td>98</td>\n",
       "      <td>7.4</td>\n",
       "      <td>NeversoftEntertainment</td>\n",
       "      <td>Sports,Alternative,Skateboarding</td>\n",
       "      <td>2-Jan</td>\n",
       "      <td>19</td>\n",
       "      <td>647</td>\n",
       "    </tr>\n",
       "    <tr>\n",
       "      <th>2</th>\n",
       "      <td>Grand Theft Auto IV</td>\n",
       "      <td>PlayStation3</td>\n",
       "      <td>29-Apr-08</td>\n",
       "      <td>98</td>\n",
       "      <td>7.6</td>\n",
       "      <td>RockstarNorth</td>\n",
       "      <td>Action Adventure,Modern,Modern,Open-World</td>\n",
       "      <td>1 Player</td>\n",
       "      <td>64</td>\n",
       "      <td>3806</td>\n",
       "    </tr>\n",
       "    <tr>\n",
       "      <th>3</th>\n",
       "      <td>SoulCalibur</td>\n",
       "      <td>Dreamcast</td>\n",
       "      <td>8-Sep-99</td>\n",
       "      <td>98</td>\n",
       "      <td>8.5</td>\n",
       "      <td>Namco</td>\n",
       "      <td>Action,Fighting,3D</td>\n",
       "      <td>2-Jan</td>\n",
       "      <td>24</td>\n",
       "      <td>324</td>\n",
       "    </tr>\n",
       "    <tr>\n",
       "      <th>4</th>\n",
       "      <td>Grand Theft Auto IV</td>\n",
       "      <td>Xbox360</td>\n",
       "      <td>29-Apr-08</td>\n",
       "      <td>98</td>\n",
       "      <td>7.9</td>\n",
       "      <td>RockstarNorth</td>\n",
       "      <td>Action Adventure,Modern,Modern,Open-World</td>\n",
       "      <td>1 Player</td>\n",
       "      <td>86</td>\n",
       "      <td>3364</td>\n",
       "    </tr>\n",
       "  </tbody>\n",
       "</table>\n",
       "</div>"
      ],
      "text/plain": [
       "                                   name      platform     r-date  score  \\\n",
       "0  The Legend of Zelda: Ocarina of Time    Nintendo64  23-Nov-98     99   \n",
       "1              Tony Hawk's Pro Skater 2   PlayStation  20-Sep-00     98   \n",
       "2                   Grand Theft Auto IV  PlayStation3  29-Apr-08     98   \n",
       "3                           SoulCalibur     Dreamcast   8-Sep-99     98   \n",
       "4                   Grand Theft Auto IV       Xbox360  29-Apr-08     98   \n",
       "\n",
       "  user score               developer  \\\n",
       "0        9.1                Nintendo   \n",
       "1        7.4  NeversoftEntertainment   \n",
       "2        7.6           RockstarNorth   \n",
       "3        8.5                   Namco   \n",
       "4        7.9           RockstarNorth   \n",
       "\n",
       "                                       genre   players  critics  users  \n",
       "0                   Action Adventure,Fantasy  1 Player       22   5749  \n",
       "1           Sports,Alternative,Skateboarding     2-Jan       19    647  \n",
       "2  Action Adventure,Modern,Modern,Open-World  1 Player       64   3806  \n",
       "3                         Action,Fighting,3D     2-Jan       24    324  \n",
       "4  Action Adventure,Modern,Modern,Open-World  1 Player       86   3364  "
      ]
     },
     "execution_count": 39,
     "metadata": {},
     "output_type": "execute_result"
    }
   ],
   "source": [
    "# Read in the data\n",
    "df = pd.read_csv('games-data.csv')\n",
    "df.head()"
   ]
  },
  {
   "cell_type": "code",
   "execution_count": 40,
   "id": "07e5ea7e",
   "metadata": {},
   "outputs": [
    {
     "data": {
      "text/plain": [
       "name          object\n",
       "platform      object\n",
       "r-date        object\n",
       "score          int64\n",
       "user score    object\n",
       "developer     object\n",
       "genre         object\n",
       "players       object\n",
       "critics        int64\n",
       "users          int64\n",
       "dtype: object"
      ]
     },
     "execution_count": 40,
     "metadata": {},
     "output_type": "execute_result"
    }
   ],
   "source": [
    "# Inspect data \n",
    "df.dtypes"
   ]
  },
  {
   "cell_type": "code",
   "execution_count": 41,
   "id": "22c1185c",
   "metadata": {},
   "outputs": [
    {
     "data": {
      "text/plain": [
       "name           0\n",
       "platform       0\n",
       "r-date         0\n",
       "score          0\n",
       "user score     0\n",
       "developer      0\n",
       "genre          0\n",
       "players       22\n",
       "critics        0\n",
       "users          0\n",
       "dtype: int64"
      ]
     },
     "execution_count": 41,
     "metadata": {},
     "output_type": "execute_result"
    }
   ],
   "source": [
    "# Check for null rows\n",
    "df.isnull().sum()"
   ]
  },
  {
   "cell_type": "code",
   "execution_count": 42,
   "id": "065af3c3",
   "metadata": {},
   "outputs": [
    {
     "data": {
      "text/html": [
       "<div>\n",
       "<style scoped>\n",
       "    .dataframe tbody tr th:only-of-type {\n",
       "        vertical-align: middle;\n",
       "    }\n",
       "\n",
       "    .dataframe tbody tr th {\n",
       "        vertical-align: top;\n",
       "    }\n",
       "\n",
       "    .dataframe thead th {\n",
       "        text-align: right;\n",
       "    }\n",
       "</style>\n",
       "<table border=\"1\" class=\"dataframe\">\n",
       "  <thead>\n",
       "    <tr style=\"text-align: right;\">\n",
       "      <th></th>\n",
       "      <th>score</th>\n",
       "      <th>developer</th>\n",
       "      <th>critics</th>\n",
       "      <th>users</th>\n",
       "    </tr>\n",
       "  </thead>\n",
       "  <tbody>\n",
       "    <tr>\n",
       "      <th>0</th>\n",
       "      <td>99</td>\n",
       "      <td>Nintendo</td>\n",
       "      <td>22</td>\n",
       "      <td>5749</td>\n",
       "    </tr>\n",
       "    <tr>\n",
       "      <th>1</th>\n",
       "      <td>98</td>\n",
       "      <td>NeversoftEntertainment</td>\n",
       "      <td>19</td>\n",
       "      <td>647</td>\n",
       "    </tr>\n",
       "    <tr>\n",
       "      <th>2</th>\n",
       "      <td>98</td>\n",
       "      <td>RockstarNorth</td>\n",
       "      <td>64</td>\n",
       "      <td>3806</td>\n",
       "    </tr>\n",
       "    <tr>\n",
       "      <th>3</th>\n",
       "      <td>98</td>\n",
       "      <td>Namco</td>\n",
       "      <td>24</td>\n",
       "      <td>324</td>\n",
       "    </tr>\n",
       "    <tr>\n",
       "      <th>4</th>\n",
       "      <td>98</td>\n",
       "      <td>RockstarNorth</td>\n",
       "      <td>86</td>\n",
       "      <td>3364</td>\n",
       "    </tr>\n",
       "  </tbody>\n",
       "</table>\n",
       "</div>"
      ],
      "text/plain": [
       "   score               developer  critics  users\n",
       "0     99                Nintendo       22   5749\n",
       "1     98  NeversoftEntertainment       19    647\n",
       "2     98           RockstarNorth       64   3806\n",
       "3     98                   Namco       24    324\n",
       "4     98           RockstarNorth       86   3364"
      ]
     },
     "execution_count": 42,
     "metadata": {},
     "output_type": "execute_result"
    }
   ],
   "source": [
    "# Drop unneeded columns\n",
    "df = df.drop(['name', 'players', 'platform', 'r-date', 'user score', 'genre'], axis=1)\n",
    "df.head()"
   ]
  },
  {
   "cell_type": "code",
   "execution_count": 43,
   "id": "a8a28a0f",
   "metadata": {},
   "outputs": [
    {
     "data": {
      "text/plain": [
       "Capcom                        298\n",
       "TelltaleGames                 236\n",
       "EASports                      195\n",
       "Konami                        176\n",
       "EACanada                      172\n",
       "                             ... \n",
       "LudicStudios                    1\n",
       "AdelineSoftware                 1\n",
       "Librage                         1\n",
       "Wargaming.net,PershaStudia      1\n",
       "GravityCorporation,Gravity      1\n",
       "Name: developer, Length: 4253, dtype: int64"
      ]
     },
     "execution_count": 43,
     "metadata": {},
     "output_type": "execute_result"
    }
   ],
   "source": [
    "# Get a count of unique values for developers\n",
    "dev_counts = df.developer.value_counts()\n",
    "dev_counts"
   ]
  },
  {
   "cell_type": "code",
   "execution_count": 44,
   "id": "b9e9770e",
   "metadata": {},
   "outputs": [
    {
     "data": {
      "text/plain": [
       "<AxesSubplot:ylabel='Density'>"
      ]
     },
     "execution_count": 44,
     "metadata": {},
     "output_type": "execute_result"
    },
    {
     "data": {
      "image/png": "[encoded data removed]",
      "text/plain": [
       "<Figure size 432x288 with 1 Axes>"
      ]
     },
     "metadata": {
      "needs_background": "light"
     },
     "output_type": "display_data"
    }
   ],
   "source": [
    "# Visualize the value counts\n",
    "dev_counts.plot.density()"
   ]
  },
  {
   "cell_type": "code",
   "execution_count": 45,
   "id": "897dad46",
   "metadata": {},
   "outputs": [
    {
     "data": {
      "text/plain": [
       "Other              16035\n",
       "Capcom               298\n",
       "TelltaleGames        236\n",
       "EASports             195\n",
       "Konami               176\n",
       "EACanada             172\n",
       "UbisoftMontreal      146\n",
       "Nintendo             142\n",
       "Ubisoft              136\n",
       "SquareEnix           107\n",
       "ElectronicArts       101\n",
       "EATiburon            100\n",
       "Codemasters          100\n",
       "Name: developer, dtype: int64"
      ]
     },
     "execution_count": 45,
     "metadata": {},
     "output_type": "execute_result"
    }
   ],
   "source": [
    "# Determine which values to replace\n",
    "replace_dev = list(dev_counts[dev_counts < 100].index)\n",
    "\n",
    "# Replace in DataFrame\n",
    "for dev in replace_dev:\n",
    "    df.developer = df.developer.replace(dev, \"Other\")\n",
    "    \n",
    "# Check to make sure binning was successful\n",
    "df.developer.value_counts()"
   ]
  },
  {
   "cell_type": "code",
   "execution_count": 46,
   "id": "6f0cf240",
   "metadata": {},
   "outputs": [
    {
     "name": "stderr",
     "output_type": "stream",
     "text": [
      "C:\\Users\\edinc\\anaconda3\\envs\\mlenv\\lib\\site-packages\\sklearn\\utils\\deprecation.py:87: FutureWarning: Function get_feature_names is deprecated; get_feature_names is deprecated in 1.0 and will be removed in 1.2. Please use get_feature_names_out instead.\n",
      "  warnings.warn(msg, category=FutureWarning)\n"
     ]
    },
    {
     "data": {
      "text/html": [
       "<div>\n",
       "<style scoped>\n",
       "    .dataframe tbody tr th:only-of-type {\n",
       "        vertical-align: middle;\n",
       "    }\n",
       "\n",
       "    .dataframe tbody tr th {\n",
       "        vertical-align: top;\n",
       "    }\n",
       "\n",
       "    .dataframe thead th {\n",
       "        text-align: right;\n",
       "    }\n",
       "</style>\n",
       "<table border=\"1\" class=\"dataframe\">\n",
       "  <thead>\n",
       "    <tr style=\"text-align: right;\">\n",
       "      <th></th>\n",
       "      <th>developer_Capcom</th>\n",
       "      <th>developer_Codemasters</th>\n",
       "      <th>developer_EACanada</th>\n",
       "      <th>developer_EASports</th>\n",
       "      <th>developer_EATiburon</th>\n",
       "      <th>developer_ElectronicArts</th>\n",
       "      <th>developer_Konami</th>\n",
       "      <th>developer_Nintendo</th>\n",
       "      <th>developer_Other</th>\n",
       "      <th>developer_SquareEnix</th>\n",
       "      <th>developer_TelltaleGames</th>\n",
       "      <th>developer_Ubisoft</th>\n",
       "      <th>developer_UbisoftMontreal</th>\n",
       "    </tr>\n",
       "  </thead>\n",
       "  <tbody>\n",
       "    <tr>\n",
       "      <th>0</th>\n",
       "      <td>0.0</td>\n",
       "      <td>0.0</td>\n",
       "      <td>0.0</td>\n",
       "      <td>0.0</td>\n",
       "      <td>0.0</td>\n",
       "      <td>0.0</td>\n",
       "      <td>0.0</td>\n",
       "      <td>1.0</td>\n",
       "      <td>0.0</td>\n",
       "      <td>0.0</td>\n",
       "      <td>0.0</td>\n",
       "      <td>0.0</td>\n",
       "      <td>0.0</td>\n",
       "    </tr>\n",
       "    <tr>\n",
       "      <th>1</th>\n",
       "      <td>0.0</td>\n",
       "      <td>0.0</td>\n",
       "      <td>0.0</td>\n",
       "      <td>0.0</td>\n",
       "      <td>0.0</td>\n",
       "      <td>0.0</td>\n",
       "      <td>0.0</td>\n",
       "      <td>0.0</td>\n",
       "      <td>1.0</td>\n",
       "      <td>0.0</td>\n",
       "      <td>0.0</td>\n",
       "      <td>0.0</td>\n",
       "      <td>0.0</td>\n",
       "    </tr>\n",
       "    <tr>\n",
       "      <th>2</th>\n",
       "      <td>0.0</td>\n",
       "      <td>0.0</td>\n",
       "      <td>0.0</td>\n",
       "      <td>0.0</td>\n",
       "      <td>0.0</td>\n",
       "      <td>0.0</td>\n",
       "      <td>0.0</td>\n",
       "      <td>0.0</td>\n",
       "      <td>1.0</td>\n",
       "      <td>0.0</td>\n",
       "      <td>0.0</td>\n",
       "      <td>0.0</td>\n",
       "      <td>0.0</td>\n",
       "    </tr>\n",
       "    <tr>\n",
       "      <th>3</th>\n",
       "      <td>0.0</td>\n",
       "      <td>0.0</td>\n",
       "      <td>0.0</td>\n",
       "      <td>0.0</td>\n",
       "      <td>0.0</td>\n",
       "      <td>0.0</td>\n",
       "      <td>0.0</td>\n",
       "      <td>0.0</td>\n",
       "      <td>1.0</td>\n",
       "      <td>0.0</td>\n",
       "      <td>0.0</td>\n",
       "      <td>0.0</td>\n",
       "      <td>0.0</td>\n",
       "    </tr>\n",
       "    <tr>\n",
       "      <th>4</th>\n",
       "      <td>0.0</td>\n",
       "      <td>0.0</td>\n",
       "      <td>0.0</td>\n",
       "      <td>0.0</td>\n",
       "      <td>0.0</td>\n",
       "      <td>0.0</td>\n",
       "      <td>0.0</td>\n",
       "      <td>0.0</td>\n",
       "      <td>1.0</td>\n",
       "      <td>0.0</td>\n",
       "      <td>0.0</td>\n",
       "      <td>0.0</td>\n",
       "      <td>0.0</td>\n",
       "    </tr>\n",
       "  </tbody>\n",
       "</table>\n",
       "</div>"
      ],
      "text/plain": [
       "   developer_Capcom  developer_Codemasters  developer_EACanada  \\\n",
       "0               0.0                    0.0                 0.0   \n",
       "1               0.0                    0.0                 0.0   \n",
       "2               0.0                    0.0                 0.0   \n",
       "3               0.0                    0.0                 0.0   \n",
       "4               0.0                    0.0                 0.0   \n",
       "\n",
       "   developer_EASports  developer_EATiburon  developer_ElectronicArts  \\\n",
       "0                 0.0                  0.0                       0.0   \n",
       "1                 0.0                  0.0                       0.0   \n",
       "2                 0.0                  0.0                       0.0   \n",
       "3                 0.0                  0.0                       0.0   \n",
       "4                 0.0                  0.0                       0.0   \n",
       "\n",
       "   developer_Konami  developer_Nintendo  developer_Other  \\\n",
       "0               0.0                 1.0              0.0   \n",
       "1               0.0                 0.0              1.0   \n",
       "2               0.0                 0.0              1.0   \n",
       "3               0.0                 0.0              1.0   \n",
       "4               0.0                 0.0              1.0   \n",
       "\n",
       "   developer_SquareEnix  developer_TelltaleGames  developer_Ubisoft  \\\n",
       "0                   0.0                      0.0                0.0   \n",
       "1                   0.0                      0.0                0.0   \n",
       "2                   0.0                      0.0                0.0   \n",
       "3                   0.0                      0.0                0.0   \n",
       "4                   0.0                      0.0                0.0   \n",
       "\n",
       "   developer_UbisoftMontreal  \n",
       "0                        0.0  \n",
       "1                        0.0  \n",
       "2                        0.0  \n",
       "3                        0.0  \n",
       "4                        0.0  "
      ]
     },
     "execution_count": 46,
     "metadata": {},
     "output_type": "execute_result"
    }
   ],
   "source": [
    "# Create the OneHotEncoder instance\n",
    "enc = OneHotEncoder(sparse=False)\n",
    "\n",
    "# Fit the encoder and produce encoded DataFrame\n",
    "encode_df = pd.DataFrame(enc.fit_transform(df.developer.values.reshape(-1,1)))\n",
    "\n",
    "# Rename encoded columns\n",
    "encode_df.columns = enc.get_feature_names(['developer'])\n",
    "encode_df.head()"
   ]
  },
  {
   "cell_type": "code",
   "execution_count": 56,
   "id": "7e957b4e",
   "metadata": {},
   "outputs": [
    {
     "name": "stderr",
     "output_type": "stream",
     "text": [
      "C:\\Users\\edinc\\anaconda3\\envs\\mlenv\\lib\\site-packages\\ipykernel_launcher.py:2: FutureWarning: In a future version of pandas all arguments of DataFrame.drop except for the argument 'labels' will be keyword-only\n",
      "  \n"
     ]
    },
    {
     "data": {
      "text/html": [
       "<div>\n",
       "<style scoped>\n",
       "    .dataframe tbody tr th:only-of-type {\n",
       "        vertical-align: middle;\n",
       "    }\n",
       "\n",
       "    .dataframe tbody tr th {\n",
       "        vertical-align: top;\n",
       "    }\n",
       "\n",
       "    .dataframe thead th {\n",
       "        text-align: right;\n",
       "    }\n",
       "</style>\n",
       "<table border=\"1\" class=\"dataframe\">\n",
       "  <thead>\n",
       "    <tr style=\"text-align: right;\">\n",
       "      <th></th>\n",
       "      <th>score</th>\n",
       "      <th>critics</th>\n",
       "      <th>users</th>\n",
       "      <th>developer_Capcom</th>\n",
       "      <th>developer_Codemasters</th>\n",
       "      <th>developer_EACanada</th>\n",
       "      <th>developer_EASports</th>\n",
       "      <th>developer_EATiburon</th>\n",
       "      <th>developer_ElectronicArts</th>\n",
       "      <th>developer_Konami</th>\n",
       "      <th>developer_Nintendo</th>\n",
       "      <th>developer_Other</th>\n",
       "      <th>developer_SquareEnix</th>\n",
       "      <th>developer_TelltaleGames</th>\n",
       "      <th>developer_Ubisoft</th>\n",
       "      <th>developer_UbisoftMontreal</th>\n",
       "    </tr>\n",
       "  </thead>\n",
       "  <tbody>\n",
       "    <tr>\n",
       "      <th>0</th>\n",
       "      <td>99</td>\n",
       "      <td>22</td>\n",
       "      <td>5749</td>\n",
       "      <td>0.0</td>\n",
       "      <td>0.0</td>\n",
       "      <td>0.0</td>\n",
       "      <td>0.0</td>\n",
       "      <td>0.0</td>\n",
       "      <td>0.0</td>\n",
       "      <td>0.0</td>\n",
       "      <td>1.0</td>\n",
       "      <td>0.0</td>\n",
       "      <td>0.0</td>\n",
       "      <td>0.0</td>\n",
       "      <td>0.0</td>\n",
       "      <td>0.0</td>\n",
       "    </tr>\n",
       "    <tr>\n",
       "      <th>1</th>\n",
       "      <td>98</td>\n",
       "      <td>19</td>\n",
       "      <td>647</td>\n",
       "      <td>0.0</td>\n",
       "      <td>0.0</td>\n",
       "      <td>0.0</td>\n",
       "      <td>0.0</td>\n",
       "      <td>0.0</td>\n",
       "      <td>0.0</td>\n",
       "      <td>0.0</td>\n",
       "      <td>0.0</td>\n",
       "      <td>1.0</td>\n",
       "      <td>0.0</td>\n",
       "      <td>0.0</td>\n",
       "      <td>0.0</td>\n",
       "      <td>0.0</td>\n",
       "    </tr>\n",
       "    <tr>\n",
       "      <th>2</th>\n",
       "      <td>98</td>\n",
       "      <td>64</td>\n",
       "      <td>3806</td>\n",
       "      <td>0.0</td>\n",
       "      <td>0.0</td>\n",
       "      <td>0.0</td>\n",
       "      <td>0.0</td>\n",
       "      <td>0.0</td>\n",
       "      <td>0.0</td>\n",
       "      <td>0.0</td>\n",
       "      <td>0.0</td>\n",
       "      <td>1.0</td>\n",
       "      <td>0.0</td>\n",
       "      <td>0.0</td>\n",
       "      <td>0.0</td>\n",
       "      <td>0.0</td>\n",
       "    </tr>\n",
       "    <tr>\n",
       "      <th>3</th>\n",
       "      <td>98</td>\n",
       "      <td>24</td>\n",
       "      <td>324</td>\n",
       "      <td>0.0</td>\n",
       "      <td>0.0</td>\n",
       "      <td>0.0</td>\n",
       "      <td>0.0</td>\n",
       "      <td>0.0</td>\n",
       "      <td>0.0</td>\n",
       "      <td>0.0</td>\n",
       "      <td>0.0</td>\n",
       "      <td>1.0</td>\n",
       "      <td>0.0</td>\n",
       "      <td>0.0</td>\n",
       "      <td>0.0</td>\n",
       "      <td>0.0</td>\n",
       "    </tr>\n",
       "    <tr>\n",
       "      <th>4</th>\n",
       "      <td>98</td>\n",
       "      <td>86</td>\n",
       "      <td>3364</td>\n",
       "      <td>0.0</td>\n",
       "      <td>0.0</td>\n",
       "      <td>0.0</td>\n",
       "      <td>0.0</td>\n",
       "      <td>0.0</td>\n",
       "      <td>0.0</td>\n",
       "      <td>0.0</td>\n",
       "      <td>0.0</td>\n",
       "      <td>1.0</td>\n",
       "      <td>0.0</td>\n",
       "      <td>0.0</td>\n",
       "      <td>0.0</td>\n",
       "      <td>0.0</td>\n",
       "    </tr>\n",
       "  </tbody>\n",
       "</table>\n",
       "</div>"
      ],
      "text/plain": [
       "   score  critics  users  developer_Capcom  developer_Codemasters  \\\n",
       "0     99       22   5749               0.0                    0.0   \n",
       "1     98       19    647               0.0                    0.0   \n",
       "2     98       64   3806               0.0                    0.0   \n",
       "3     98       24    324               0.0                    0.0   \n",
       "4     98       86   3364               0.0                    0.0   \n",
       "\n",
       "   developer_EACanada  developer_EASports  developer_EATiburon  \\\n",
       "0                 0.0                 0.0                  0.0   \n",
       "1                 0.0                 0.0                  0.0   \n",
       "2                 0.0                 0.0                  0.0   \n",
       "3                 0.0                 0.0                  0.0   \n",
       "4                 0.0                 0.0                  0.0   \n",
       "\n",
       "   developer_ElectronicArts  developer_Konami  developer_Nintendo  \\\n",
       "0                       0.0               0.0                 1.0   \n",
       "1                       0.0               0.0                 0.0   \n",
       "2                       0.0               0.0                 0.0   \n",
       "3                       0.0               0.0                 0.0   \n",
       "4                       0.0               0.0                 0.0   \n",
       "\n",
       "   developer_Other  developer_SquareEnix  developer_TelltaleGames  \\\n",
       "0              0.0                   0.0                      0.0   \n",
       "1              1.0                   0.0                      0.0   \n",
       "2              1.0                   0.0                      0.0   \n",
       "3              1.0                   0.0                      0.0   \n",
       "4              1.0                   0.0                      0.0   \n",
       "\n",
       "   developer_Ubisoft  developer_UbisoftMontreal  \n",
       "0                0.0                        0.0  \n",
       "1                0.0                        0.0  \n",
       "2                0.0                        0.0  \n",
       "3                0.0                        0.0  \n",
       "4                0.0                        0.0  "
      ]
     },
     "execution_count": 56,
     "metadata": {},
     "output_type": "execute_result"
    }
   ],
   "source": [
    "# Merge the two DataFrames together and drop the developer column\n",
    "df = df.merge(encode_df,left_index=True,right_index=True).drop(\"developer\",1)\n",
    "df.head()"
   ]
  },
  {
   "cell_type": "code",
   "execution_count": 57,
   "id": "18f35c0d",
   "metadata": {},
   "outputs": [
    {
     "data": {
      "text/plain": [
       "score                          int64\n",
       "critics                        int64\n",
       "users                          int64\n",
       "developer_Capcom             float64\n",
       "developer_Codemasters        float64\n",
       "developer_EACanada           float64\n",
       "developer_EASports           float64\n",
       "developer_EATiburon          float64\n",
       "developer_ElectronicArts     float64\n",
       "developer_Konami             float64\n",
       "developer_Nintendo           float64\n",
       "developer_Other              float64\n",
       "developer_SquareEnix         float64\n",
       "developer_TelltaleGames      float64\n",
       "developer_Ubisoft            float64\n",
       "developer_UbisoftMontreal    float64\n",
       "dtype: object"
      ]
     },
     "execution_count": 57,
     "metadata": {},
     "output_type": "execute_result"
    }
   ],
   "source": [
    "df.dtypes"
   ]
  },
  {
   "cell_type": "code",
   "execution_count": 58,
   "id": "ef83ef09",
   "metadata": {},
   "outputs": [],
   "source": [
    "# Split our preprocessed data into our features and target arrays\n",
    "y = df[\"score\"].values\n",
    "X = df.drop(\"score\", axis=1)\n",
    "\n",
    "# Split the preprocessed data into a training and testing dataset\n",
    "X_train, X_test, y_train, y_test = train_test_split(X, y, random_state=78)"
   ]
  },
  {
   "cell_type": "code",
   "execution_count": 61,
   "id": "94264b1c",
   "metadata": {},
   "outputs": [],
   "source": [
    "# Creating the decision tree classifier instance.\n",
    "model = tree.DecisionTreeClassifier()\n",
    "# Fitting the model.\n",
    "model = model.fit(X_train, y_train)"
   ]
  },
  {
   "cell_type": "code",
   "execution_count": 64,
   "id": "6fddf5e4",
   "metadata": {},
   "outputs": [
    {
     "data": {
      "text/plain": [
       "array([71, 75, 28, ..., 78, 58, 55], dtype=int64)"
      ]
     },
     "execution_count": 64,
     "metadata": {},
     "output_type": "execute_result"
    }
   ],
   "source": [
    "# Making predictions using the testing data.\n",
    "predictions = model.predict(X_test)\n",
    "predictions"
   ]
  },
  {
   "cell_type": "code",
   "execution_count": 68,
   "id": "16afb708",
   "metadata": {},
   "outputs": [
    {
     "data": {
      "text/plain": [
       "0.02808738296923763"
      ]
     },
     "execution_count": 68,
     "metadata": {},
     "output_type": "execute_result"
    }
   ],
   "source": [
    "# Calculating the accuracy score.\n",
    "acc_score = accuracy_score(y_test, predictions)\n",
    "acc_score"
   ]
  },
  {
   "cell_type": "code",
   "execution_count": null,
   "id": "f162a1e5",
   "metadata": {},
   "outputs": [],
   "source": []
  }
 ],
 "metadata": {
  "kernelspec": {
   "display_name": "mlenv",
   "language": "python",
   "name": "mlenv"
  },
  "language_info": {
   "codemirror_mode": {
    "name": "ipython",
    "version": 3
   },
   "file_extension": ".py",
   "mimetype": "text/x-python",
   "name": "python",
   "nbconvert_exporter": "python",
   "pygments_lexer": "ipython3",
   "version": "3.7.11"
  }
 },
 "nbformat": 4,
 "nbformat_minor": 5
}
