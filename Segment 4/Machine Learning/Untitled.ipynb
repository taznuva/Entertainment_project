{
 "cells": [
  {
   "cell_type": "code",
   "execution_count": 1,
   "id": "73c75e4c",
   "metadata": {},
   "outputs": [],
   "source": [
    "import pandas as pd\n",
    "import numpy as np\n",
    "from pathlib import Path\n",
    "from path import Path\n",
    "import matplotlib.pyplot as plt\n",
    "from sklearn.linear_model import LinearRegression\n",
    "from sklearn.preprocessing import StandardScaler\n",
    "data_scaler = StandardScaler()\n",
    "from sklearn.preprocessing import StandardScaler\n",
    "from sklearn.ensemble import RandomForestClassifier\n",
    "from sklearn.model_selection import train_test_split\n",
    "from sklearn.preprocessing import OneHotEncoder\n",
    "from sklearn.metrics import confusion_matrix, accuracy_score, classification_report\n",
    "from sklearn.datasets import make_blobs\n"
   ]
  },
  {
   "cell_type": "code",
   "execution_count": 2,
   "id": "ff67216c",
   "metadata": {},
   "outputs": [
    {
     "data": {
      "text/html": [
       "<div>\n",
       "<style scoped>\n",
       "    .dataframe tbody tr th:only-of-type {\n",
       "        vertical-align: middle;\n",
       "    }\n",
       "\n",
       "    .dataframe tbody tr th {\n",
       "        vertical-align: top;\n",
       "    }\n",
       "\n",
       "    .dataframe thead th {\n",
       "        text-align: right;\n",
       "    }\n",
       "</style>\n",
       "<table border=\"1\" class=\"dataframe\">\n",
       "  <thead>\n",
       "    <tr style=\"text-align: right;\">\n",
       "      <th></th>\n",
       "      <th>title</th>\n",
       "      <th>platform</th>\n",
       "      <th>release-date</th>\n",
       "      <th>score</th>\n",
       "      <th>user_score</th>\n",
       "      <th>developer</th>\n",
       "      <th>genre</th>\n",
       "      <th>critics</th>\n",
       "      <th>users</th>\n",
       "      <th>franchise</th>\n",
       "      <th>global_sales</th>\n",
       "    </tr>\n",
       "  </thead>\n",
       "  <tbody>\n",
       "    <tr>\n",
       "      <th>0</th>\n",
       "      <td>.hack//G.U. Last Recode</td>\n",
       "      <td>PlayStation4</td>\n",
       "      <td>3-Nov-17</td>\n",
       "      <td>76</td>\n",
       "      <td>8.1</td>\n",
       "      <td>CyberConnect2</td>\n",
       "      <td>Miscellaneous,Compilation</td>\n",
       "      <td>21</td>\n",
       "      <td>64</td>\n",
       "      <td>hack</td>\n",
       "      <td>0.47</td>\n",
       "    </tr>\n",
       "    <tr>\n",
       "      <th>2</th>\n",
       "      <td>#IDARB</td>\n",
       "      <td>XboxOne</td>\n",
       "      <td>30-Jan-15</td>\n",
       "      <td>77</td>\n",
       "      <td>6.9</td>\n",
       "      <td>OtherOceanInteractive</td>\n",
       "      <td>Action,General</td>\n",
       "      <td>31</td>\n",
       "      <td>88</td>\n",
       "      <td>#IDARB</td>\n",
       "      <td>0.09</td>\n",
       "    </tr>\n",
       "    <tr>\n",
       "      <th>3</th>\n",
       "      <td>007: Quantum of Solace</td>\n",
       "      <td>PlayStation3</td>\n",
       "      <td>4-Nov-08</td>\n",
       "      <td>65</td>\n",
       "      <td>6.6</td>\n",
       "      <td>Treyarch</td>\n",
       "      <td>Action,General,Shooter,Shooter,First-Person,Mo...</td>\n",
       "      <td>42</td>\n",
       "      <td>59</td>\n",
       "      <td>007: Quantum of Solace</td>\n",
       "      <td>1.14</td>\n",
       "    </tr>\n",
       "    <tr>\n",
       "      <th>4</th>\n",
       "      <td>007: Quantum of Solace</td>\n",
       "      <td>PC</td>\n",
       "      <td>4-Nov-08</td>\n",
       "      <td>70</td>\n",
       "      <td>6.1</td>\n",
       "      <td>Treyarch,Beenox</td>\n",
       "      <td>Action,General,Shooter,Shooter,First-Person,Mo...</td>\n",
       "      <td>18</td>\n",
       "      <td>64</td>\n",
       "      <td>007: Quantum of Solace</td>\n",
       "      <td>0.03</td>\n",
       "    </tr>\n",
       "    <tr>\n",
       "      <th>6</th>\n",
       "      <td>10 Second Ninja</td>\n",
       "      <td>PC</td>\n",
       "      <td>5-Mar-14</td>\n",
       "      <td>72</td>\n",
       "      <td>7.1</td>\n",
       "      <td>GameDesignDan</td>\n",
       "      <td>Action,Platformer,2D</td>\n",
       "      <td>13</td>\n",
       "      <td>16</td>\n",
       "      <td>10 Second Ninja</td>\n",
       "      <td>0.02</td>\n",
       "    </tr>\n",
       "    <tr>\n",
       "      <th>7</th>\n",
       "      <td>10 Second Ninja X</td>\n",
       "      <td>XboxOne</td>\n",
       "      <td>19-Jul-16</td>\n",
       "      <td>82</td>\n",
       "      <td>4.5</td>\n",
       "      <td>GameDesignDan</td>\n",
       "      <td>Action,Platformer,2D</td>\n",
       "      <td>10</td>\n",
       "      <td>8</td>\n",
       "      <td>10 Second Ninja</td>\n",
       "      <td>0.11</td>\n",
       "    </tr>\n",
       "    <tr>\n",
       "      <th>16</th>\n",
       "      <td>1701 A.D.</td>\n",
       "      <td>PC</td>\n",
       "      <td>6-Nov-06</td>\n",
       "      <td>79</td>\n",
       "      <td>7.8</td>\n",
       "      <td>RelatedDesigns</td>\n",
       "      <td>Strategy,Real-Time,Historic,General,Historic</td>\n",
       "      <td>30</td>\n",
       "      <td>45</td>\n",
       "      <td>1701 A.D.</td>\n",
       "      <td>0.30</td>\n",
       "    </tr>\n",
       "    <tr>\n",
       "      <th>25</th>\n",
       "      <td>2010 FIFA World Cup South Africa</td>\n",
       "      <td>PlayStation3</td>\n",
       "      <td>27-Apr-10</td>\n",
       "      <td>82</td>\n",
       "      <td>7.8</td>\n",
       "      <td>EACanada</td>\n",
       "      <td>Sports,Traditional,Team,Soccer,Sim,Sim</td>\n",
       "      <td>56</td>\n",
       "      <td>65</td>\n",
       "      <td>FIFA</td>\n",
       "      <td>1.23</td>\n",
       "    </tr>\n",
       "    <tr>\n",
       "      <th>26</th>\n",
       "      <td>2014 FIFA World Cup Brazil</td>\n",
       "      <td>PlayStation3</td>\n",
       "      <td>15-Apr-14</td>\n",
       "      <td>73</td>\n",
       "      <td>4.5</td>\n",
       "      <td>EACanada</td>\n",
       "      <td>Sports,Traditional,Team,Soccer,Sim</td>\n",
       "      <td>33</td>\n",
       "      <td>93</td>\n",
       "      <td>FIFA</td>\n",
       "      <td>0.61</td>\n",
       "    </tr>\n",
       "    <tr>\n",
       "      <th>35</th>\n",
       "      <td>3D Dot Game Heroes</td>\n",
       "      <td>PlayStation3</td>\n",
       "      <td>11-May-10</td>\n",
       "      <td>77</td>\n",
       "      <td>8.1</td>\n",
       "      <td>SiliconStudio</td>\n",
       "      <td>Role-Playing,Action RPG,Action RPG</td>\n",
       "      <td>66</td>\n",
       "      <td>103</td>\n",
       "      <td>3D Dot Game Heroes</td>\n",
       "      <td>0.57</td>\n",
       "    </tr>\n",
       "  </tbody>\n",
       "</table>\n",
       "</div>"
      ],
      "text/plain": [
       "                               title      platform release-date  score  \\\n",
       "0            .hack//G.U. Last Recode  PlayStation4     3-Nov-17     76   \n",
       "2                             #IDARB       XboxOne    30-Jan-15     77   \n",
       "3             007: Quantum of Solace  PlayStation3     4-Nov-08     65   \n",
       "4             007: Quantum of Solace            PC     4-Nov-08     70   \n",
       "6                    10 Second Ninja            PC     5-Mar-14     72   \n",
       "7                  10 Second Ninja X       XboxOne    19-Jul-16     82   \n",
       "16                         1701 A.D.            PC     6-Nov-06     79   \n",
       "25  2010 FIFA World Cup South Africa  PlayStation3    27-Apr-10     82   \n",
       "26        2014 FIFA World Cup Brazil  PlayStation3    15-Apr-14     73   \n",
       "35                3D Dot Game Heroes  PlayStation3    11-May-10     77   \n",
       "\n",
       "    user_score              developer  \\\n",
       "0          8.1          CyberConnect2   \n",
       "2          6.9  OtherOceanInteractive   \n",
       "3          6.6               Treyarch   \n",
       "4          6.1        Treyarch,Beenox   \n",
       "6          7.1          GameDesignDan   \n",
       "7          4.5          GameDesignDan   \n",
       "16         7.8         RelatedDesigns   \n",
       "25         7.8               EACanada   \n",
       "26         4.5               EACanada   \n",
       "35         8.1          SiliconStudio   \n",
       "\n",
       "                                                genre  critics  users  \\\n",
       "0                           Miscellaneous,Compilation       21     64   \n",
       "2                                      Action,General       31     88   \n",
       "3   Action,General,Shooter,Shooter,First-Person,Mo...       42     59   \n",
       "4   Action,General,Shooter,Shooter,First-Person,Mo...       18     64   \n",
       "6                                Action,Platformer,2D       13     16   \n",
       "7                                Action,Platformer,2D       10      8   \n",
       "16       Strategy,Real-Time,Historic,General,Historic       30     45   \n",
       "25             Sports,Traditional,Team,Soccer,Sim,Sim       56     65   \n",
       "26                 Sports,Traditional,Team,Soccer,Sim       33     93   \n",
       "35                 Role-Playing,Action RPG,Action RPG       66    103   \n",
       "\n",
       "                 franchise  global_sales  \n",
       "0                     hack          0.47  \n",
       "2                   #IDARB          0.09  \n",
       "3   007: Quantum of Solace          1.14  \n",
       "4   007: Quantum of Solace          0.03  \n",
       "6          10 Second Ninja          0.02  \n",
       "7          10 Second Ninja          0.11  \n",
       "16               1701 A.D.          0.30  \n",
       "25                    FIFA          1.23  \n",
       "26                    FIFA          0.61  \n",
       "35      3D Dot Game Heroes          0.57  "
      ]
     },
     "execution_count": 2,
     "metadata": {},
     "output_type": "execute_result"
    }
   ],
   "source": [
    "data = Path('test_table_5.csv')\n",
    "df = pd.read_csv(data)\n",
    "                 \n",
    "df = df.dropna()\n",
    "\n",
    "df.head(10)"
   ]
  },
  {
   "cell_type": "code",
   "execution_count": 3,
   "id": "55f5228d",
   "metadata": {},
   "outputs": [],
   "source": [
    "# Create our features\n",
    "X = pd.get_dummies(df.drop('global_sales', axis=1))\n",
    "\n",
    "# Create our target\n",
    "y = df[\"global_sales\"]"
   ]
  },
  {
   "cell_type": "code",
   "execution_count": 4,
   "id": "0d60218f",
   "metadata": {},
   "outputs": [
    {
     "data": {
      "image/png": "[encoded data removed]",
      "text/plain": [
       "<Figure size 432x288 with 1 Axes>"
      ]
     },
     "metadata": {
      "needs_background": "light"
     },
     "output_type": "display_data"
    }
   ],
   "source": [
    "#17.2.3\n",
    "plt.scatter(df.score, df.global_sales)\n",
    "plt.xlabel('score')\n",
    "plt.ylabel('global_sales')\n",
    "plt.show()"
   ]
  },
  {
   "cell_type": "code",
   "execution_count": 5,
   "id": "c57cdd55",
   "metadata": {},
   "outputs": [],
   "source": [
    "X = df.score.values.reshape(-1, 1)"
   ]
  },
  {
   "cell_type": "code",
   "execution_count": 6,
   "id": "443a21bd",
   "metadata": {},
   "outputs": [
    {
     "data": {
      "text/plain": [
       "array([[76],\n",
       "       [77],\n",
       "       [65],\n",
       "       [70],\n",
       "       [72]])"
      ]
     },
     "execution_count": 6,
     "metadata": {},
     "output_type": "execute_result"
    }
   ],
   "source": [
    "X[:5]"
   ]
  },
  {
   "cell_type": "code",
   "execution_count": 7,
   "id": "8f17a30f",
   "metadata": {},
   "outputs": [
    {
     "data": {
      "text/plain": [
       "(1287, 1)"
      ]
     },
     "execution_count": 7,
     "metadata": {},
     "output_type": "execute_result"
    }
   ],
   "source": [
    "X.shape"
   ]
  },
  {
   "cell_type": "code",
   "execution_count": 8,
   "id": "daeef109",
   "metadata": {},
   "outputs": [],
   "source": [
    "y = df.global_sales"
   ]
  },
  {
   "cell_type": "code",
   "execution_count": 9,
   "id": "7ccb1539",
   "metadata": {},
   "outputs": [],
   "source": [
    "model = LinearRegression()"
   ]
  },
  {
   "cell_type": "code",
   "execution_count": 10,
   "id": "91e24e93",
   "metadata": {},
   "outputs": [
    {
     "data": {
      "text/plain": [
       "LinearRegression()"
      ]
     },
     "execution_count": 10,
     "metadata": {},
     "output_type": "execute_result"
    }
   ],
   "source": [
    "model.fit(X, y)"
   ]
  },
  {
   "cell_type": "code",
   "execution_count": 11,
   "id": "1085aeed",
   "metadata": {},
   "outputs": [
    {
     "name": "stdout",
     "output_type": "stream",
     "text": [
      "(1287,)\n"
     ]
    }
   ],
   "source": [
    "y_pred = model.predict(X)\n",
    "print(y_pred.shape)"
   ]
  },
  {
   "cell_type": "code",
   "execution_count": 12,
   "id": "17cbfa1a",
   "metadata": {},
   "outputs": [
    {
     "data": {
      "image/png": "[encoded data removed]",
      "text/plain": [
       "<Figure size 432x288 with 1 Axes>"
      ]
     },
     "metadata": {
      "needs_background": "light"
     },
     "output_type": "display_data"
    }
   ],
   "source": [
    "plt.scatter(X, y)\n",
    "plt.plot(X, y_pred, color='red')\n",
    "plt.show()"
   ]
  },
  {
   "cell_type": "code",
   "execution_count": 13,
   "id": "5475192c",
   "metadata": {},
   "outputs": [
    {
     "name": "stdout",
     "output_type": "stream",
     "text": [
      "[0.0783987]\n",
      "-5.363992601157091\n"
     ]
    }
   ],
   "source": [
    "#17.2.3\n",
    "print(model.coef_)\n",
    "print(model.intercept_)"
   ]
  },
  {
   "cell_type": "code",
   "execution_count": 14,
   "id": "63462624",
   "metadata": {},
   "outputs": [
    {
     "data": {
      "text/plain": [
       "(965, 1)"
      ]
     },
     "execution_count": 14,
     "metadata": {},
     "output_type": "execute_result"
    }
   ],
   "source": [
    "from sklearn.model_selection import train_test_split\n",
    "X_train, X_test, y_train, y_test = train_test_split(X, y, random_state=0)\n",
    "X_train.shape"
   ]
  },
  {
   "cell_type": "code",
   "execution_count": 15,
   "id": "a0b39924",
   "metadata": {},
   "outputs": [],
   "source": [
    "# Creating a StandardScaler instance.\n",
    "scaler = StandardScaler()\n",
    "\n",
    "# Fitting the Standard Scaler with the training data.\n",
    "X_scaler = scaler.fit(X_train)\n",
    "\n",
    "# Scaling the data.\n",
    "X_train_scaled = X_scaler.transform(X_train)\n",
    "X_test_scaled = X_scaler.transform(X_test)\n"
   ]
  },
  {
   "cell_type": "code",
   "execution_count": null,
   "id": "388af911",
   "metadata": {},
   "outputs": [],
   "source": [
    "# Create a random forest classifier.\n",
    "rf_model = RandomForestClassifier(n_estimators=128, random_state=78) "
   ]
  },
  {
   "cell_type": "code",
   "execution_count": null,
   "id": "a5ec0cde",
   "metadata": {},
   "outputs": [],
   "source": []
  },
  {
   "cell_type": "code",
   "execution_count": null,
   "id": "2f7496cd",
   "metadata": {},
   "outputs": [],
   "source": [
    "# Fitting the model\n",
    "rf_model = rf_model.fit(X_train_scaled, y_train)"
   ]
  },
  {
   "cell_type": "code",
   "execution_count": null,
   "id": "44766224",
   "metadata": {},
   "outputs": [],
   "source": [
    "# Making predictions using the testing data.\n",
    "predictions = rf_model.predict(X_test_scaled)"
   ]
  },
  {
   "cell_type": "code",
   "execution_count": null,
   "id": "0fa49610",
   "metadata": {},
   "outputs": [],
   "source": [
    "# Calculating the confusion matrix.\n",
    "cm = confusion_matrix(y_test, predictions)\n",
    "\n",
    "# Create a DataFrame from the confusion matrix.\n",
    "cm_df = pd.DataFrame(\n",
    "    cm, index=[\"Actual 0\", \"Actual 1\"], columns=[\"Predicted 0\", \"Predicted 1\"])\n",
    "\n",
    "cm_df"
   ]
  },
  {
   "cell_type": "code",
   "execution_count": null,
   "id": "482a32f2",
   "metadata": {},
   "outputs": [],
   "source": [
    "# Calculating the accuracy score.\n",
    "acc_score = accuracy_score(y_test, predictions)"
   ]
  },
  {
   "cell_type": "code",
   "execution_count": null,
   "id": "571ae99a",
   "metadata": {},
   "outputs": [],
   "source": [
    "# Displaying results\n",
    "print(\"Confusion Matrix\")\n",
    "display(cm_df)\n",
    "print(f\"Accuracy Score : {acc_score}\")\n",
    "print(\"Classification Report\")\n",
    "print(classification_report(y_test, predictions))"
   ]
  },
  {
   "cell_type": "code",
   "execution_count": null,
   "id": "582dcd4c",
   "metadata": {},
   "outputs": [],
   "source": [
    "# Calculate feature importance in the Random Forest model.\n",
    "importances = rf_model.feature_importances_\n",
    "importances"
   ]
  },
  {
   "cell_type": "code",
   "execution_count": null,
   "id": "b6df521f",
   "metadata": {},
   "outputs": [],
   "source": [
    "#so far"
   ]
  },
  {
   "cell_type": "code",
   "execution_count": null,
   "id": "c85c2753",
   "metadata": {},
   "outputs": [],
   "source": [
    "#ignore below "
   ]
  },
  {
   "cell_type": "code",
   "execution_count": null,
   "id": "e2020a3d",
   "metadata": {},
   "outputs": [],
   "source": []
  },
  {
   "cell_type": "code",
   "execution_count": null,
   "id": "d9299c36",
   "metadata": {},
   "outputs": [],
   "source": [
    "# Fitting simple linear regression to training set \n",
    "from sklearn.linear_model import LinearRegression\n",
    "regressor = LinearRegression()\n",
    "regressor.fit(X_train, y_train)"
   ]
  },
  {
   "cell_type": "code",
   "execution_count": null,
   "id": "497a8a09",
   "metadata": {},
   "outputs": [],
   "source": [
    "# Predicting the test set results\n",
    "y_pred = regressor.predict(X_test)"
   ]
  },
  {
   "cell_type": "code",
   "execution_count": null,
   "id": "edba82fc",
   "metadata": {},
   "outputs": [],
   "source": []
  },
  {
   "cell_type": "code",
   "execution_count": null,
   "id": "10aa1050",
   "metadata": {},
   "outputs": [],
   "source": []
  },
  {
   "cell_type": "code",
   "execution_count": null,
   "id": "3d9312ed",
   "metadata": {},
   "outputs": [],
   "source": []
  },
  {
   "cell_type": "code",
   "execution_count": null,
   "id": "a9063c19",
   "metadata": {},
   "outputs": [],
   "source": []
  },
  {
   "cell_type": "code",
   "execution_count": null,
   "id": "b4d4e36f",
   "metadata": {},
   "outputs": [],
   "source": []
  },
  {
   "cell_type": "code",
   "execution_count": null,
   "id": "0b45a959",
   "metadata": {},
   "outputs": [],
   "source": []
  },
  {
   "cell_type": "code",
   "execution_count": null,
   "id": "241b65e9",
   "metadata": {},
   "outputs": [],
   "source": []
  },
  {
   "cell_type": "code",
   "execution_count": null,
   "id": "51b9e244",
   "metadata": {},
   "outputs": [],
   "source": []
  },
  {
   "cell_type": "code",
   "execution_count": null,
   "id": "97f3ce91",
   "metadata": {},
   "outputs": [],
   "source": []
  },
  {
   "cell_type": "code",
   "execution_count": null,
   "id": "21ecfd06",
   "metadata": {},
   "outputs": [],
   "source": []
  },
  {
   "cell_type": "code",
   "execution_count": null,
   "id": "0a71916a",
   "metadata": {},
   "outputs": [],
   "source": []
  },
  {
   "cell_type": "code",
   "execution_count": null,
   "id": "bdfb90af",
   "metadata": {},
   "outputs": [],
   "source": [
    "\n"
   ]
  },
  {
   "cell_type": "code",
   "execution_count": null,
   "id": "9730be56",
   "metadata": {},
   "outputs": [],
   "source": []
  },
  {
   "cell_type": "code",
   "execution_count": null,
   "id": "7577566b",
   "metadata": {},
   "outputs": [],
   "source": [
    "from sklearn.model_selection import train_test_split\n",
    "X_train, X_test, y_train, y_test = train_test_split(X, y, random_state=1)\n",
    "X_train.shape"
   ]
  },
  {
   "cell_type": "code",
   "execution_count": null,
   "id": "d79f9cbf",
   "metadata": {},
   "outputs": [],
   "source": []
  },
  {
   "cell_type": "code",
   "execution_count": null,
   "id": "d53f43d4",
   "metadata": {},
   "outputs": [],
   "source": []
  },
  {
   "cell_type": "code",
   "execution_count": null,
   "id": "e156a24c",
   "metadata": {},
   "outputs": [],
   "source": [
    "# Fitting the model\n",
    "rf_model = rf_model.fit(X_train_scaled, y_train)"
   ]
  },
  {
   "cell_type": "code",
   "execution_count": null,
   "id": "1728ed9b",
   "metadata": {},
   "outputs": [],
   "source": []
  },
  {
   "cell_type": "code",
   "execution_count": null,
   "id": "0a02c7bd",
   "metadata": {},
   "outputs": [],
   "source": [
    "test_table_2 = data_scaler.fit_transform()"
   ]
  },
  {
   "cell_type": "code",
   "execution_count": null,
   "id": "522e4d3c",
   "metadata": {},
   "outputs": [],
   "source": [
    "test_table_2_scaled[:5]"
   ]
  },
  {
   "cell_type": "code",
   "execution_count": null,
   "id": "86459998",
   "metadata": {},
   "outputs": [],
   "source": [
    "import numpy as np\n",
    "print(np.mean(test_table_2_scaled[:,0]))\n",
    "print(np.std(test_table_2_scaled[:,0]))"
   ]
  },
  {
   "cell_type": "code",
   "execution_count": null,
   "id": "dd515d5a",
   "metadata": {},
   "outputs": [],
   "source": [
    "# Create our features\n",
    "X = pd.get_dummies(df.drop('global_sales', axis=1))\n",
    "\n",
    "# Create our target\n",
    "y = df['global_sales']"
   ]
  },
  {
   "cell_type": "code",
   "execution_count": null,
   "id": "44a50e34",
   "metadata": {},
   "outputs": [],
   "source": [
    "X.describe()"
   ]
  },
  {
   "cell_type": "code",
   "execution_count": null,
   "id": "634c22a0",
   "metadata": {},
   "outputs": [],
   "source": [
    "# Check the balance of our target values\n",
    "y.value_counts()"
   ]
  },
  {
   "cell_type": "code",
   "execution_count": null,
   "id": "0c684486",
   "metadata": {},
   "outputs": [],
   "source": [
    "from sklearn.model_selection import train_test_split\n",
    "X_train, X_test, y_train, y_test = train_test_split(X, y, random_state=1)\n",
    "X_train.shape"
   ]
  },
  {
   "cell_type": "code",
   "execution_count": null,
   "id": "9932b3c5",
   "metadata": {},
   "outputs": [],
   "source": []
  },
  {
   "cell_type": "code",
   "execution_count": null,
   "id": "25133cd8",
   "metadata": {},
   "outputs": [],
   "source": []
  },
  {
   "cell_type": "code",
   "execution_count": null,
   "id": "e6787f24",
   "metadata": {},
   "outputs": [],
   "source": [
    "X = df.score.values.reshape(-1, 1)"
   ]
  },
  {
   "cell_type": "code",
   "execution_count": null,
   "id": "1a0adb27",
   "metadata": {},
   "outputs": [],
   "source": []
  },
  {
   "cell_type": "code",
   "execution_count": null,
   "id": "c9d02c51",
   "metadata": {},
   "outputs": [],
   "source": []
  },
  {
   "cell_type": "code",
   "execution_count": null,
   "id": "e20874fd",
   "metadata": {},
   "outputs": [],
   "source": []
  },
  {
   "cell_type": "code",
   "execution_count": null,
   "id": "2aa76b2f",
   "metadata": {},
   "outputs": [],
   "source": []
  },
  {
   "cell_type": "code",
   "execution_count": null,
   "id": "dc23541d",
   "metadata": {},
   "outputs": [],
   "source": []
  },
  {
   "cell_type": "code",
   "execution_count": null,
   "id": "35042554",
   "metadata": {},
   "outputs": [],
   "source": []
  },
  {
   "cell_type": "code",
   "execution_count": null,
   "id": "5ca6b66e",
   "metadata": {},
   "outputs": [],
   "source": []
  },
  {
   "cell_type": "code",
   "execution_count": null,
   "id": "df296781",
   "metadata": {},
   "outputs": [],
   "source": []
  },
  {
   "cell_type": "code",
   "execution_count": null,
   "id": "cd55af49",
   "metadata": {},
   "outputs": [],
   "source": []
  },
  {
   "cell_type": "code",
   "execution_count": null,
   "id": "bd4b2899",
   "metadata": {},
   "outputs": [],
   "source": []
  }
 ],
 "metadata": {
  "kernelspec": {
   "display_name": "mlenv",
   "language": "python",
   "name": "mlenv"
  },
  "language_info": {
   "codemirror_mode": {
    "name": "ipython",
    "version": 3
   },
   "file_extension": ".py",
   "mimetype": "text/x-python",
   "name": "python",
   "nbconvert_exporter": "python",
   "pygments_lexer": "ipython3",
   "version": "3.7.11"
  }
 },
 "nbformat": 4,
 "nbformat_minor": 5
}
