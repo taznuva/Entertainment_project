{
 "cells": [
  {
   "cell_type": "code",
   "execution_count": 1,
   "id": "73c75e4c",
   "metadata": {},
   "outputs": [],
   "source": [
    "import pandas as pd\n",
    "import numpy as np\n",
    "from pathlib import Path\n",
    "from path import Path\n",
    "import matplotlib.pyplot as plt\n",
    "from sklearn.linear_model import LinearRegression\n",
    "from sklearn.preprocessing import StandardScaler\n",
    "data_scaler = StandardScaler()\n",
    "from sklearn.preprocessing import StandardScaler\n",
    "from sklearn.ensemble import RandomForestClassifier\n",
    "from sklearn.model_selection import train_test_split\n",
    "from sklearn.metrics import confusion_matrix, accuracy_score, classification_report\n",
    "from sklearn.datasets import make_blobs\n"
   ]
  },
  {
   "cell_type": "code",
   "execution_count": 2,
   "id": "ff67216c",
   "metadata": {},
   "outputs": [
    {
     "data": {
      "text/html": [
       "<div>\n",
       "<style scoped>\n",
       "    .dataframe tbody tr th:only-of-type {\n",
       "        vertical-align: middle;\n",
       "    }\n",
       "\n",
       "    .dataframe tbody tr th {\n",
       "        vertical-align: top;\n",
       "    }\n",
       "\n",
       "    .dataframe thead th {\n",
       "        text-align: right;\n",
       "    }\n",
       "</style>\n",
       "<table border=\"1\" class=\"dataframe\">\n",
       "  <thead>\n",
       "    <tr style=\"text-align: right;\">\n",
       "      <th></th>\n",
       "      <th>title</th>\n",
       "      <th>platform</th>\n",
       "      <th>release-date</th>\n",
       "      <th>score</th>\n",
       "      <th>user_score</th>\n",
       "      <th>developer</th>\n",
       "      <th>genre</th>\n",
       "      <th>critics</th>\n",
       "      <th>users</th>\n",
       "      <th>franchise</th>\n",
       "      <th>global_sales</th>\n",
       "    </tr>\n",
       "  </thead>\n",
       "  <tbody>\n",
       "    <tr>\n",
       "      <th>3</th>\n",
       "      <td>007: Quantum of Solace</td>\n",
       "      <td>PC</td>\n",
       "      <td>4-Nov-08</td>\n",
       "      <td>70</td>\n",
       "      <td>6.1</td>\n",
       "      <td>Treyarch,Beenox</td>\n",
       "      <td>Action,General,Shooter,Shooter,First-Person,Mo...</td>\n",
       "      <td>18</td>\n",
       "      <td>64</td>\n",
       "      <td>007: Quantum of Solace</td>\n",
       "      <td>0.03</td>\n",
       "    </tr>\n",
       "    <tr>\n",
       "      <th>4</th>\n",
       "      <td>007: Quantum of Solace</td>\n",
       "      <td>PlayStation3</td>\n",
       "      <td>4-Nov-08</td>\n",
       "      <td>65</td>\n",
       "      <td>6.6</td>\n",
       "      <td>Treyarch</td>\n",
       "      <td>Action,General,Shooter,Shooter,First-Person,Mo...</td>\n",
       "      <td>42</td>\n",
       "      <td>59</td>\n",
       "      <td>007: Quantum of Solace</td>\n",
       "      <td>1.14</td>\n",
       "    </tr>\n",
       "    <tr>\n",
       "      <th>16</th>\n",
       "      <td>1701 A.D.</td>\n",
       "      <td>PC</td>\n",
       "      <td>6-Nov-06</td>\n",
       "      <td>79</td>\n",
       "      <td>7.8</td>\n",
       "      <td>RelatedDesigns</td>\n",
       "      <td>Strategy,Real-Time,Historic,General,Historic</td>\n",
       "      <td>30</td>\n",
       "      <td>45</td>\n",
       "      <td>1701 A.D.</td>\n",
       "      <td>0.30</td>\n",
       "    </tr>\n",
       "    <tr>\n",
       "      <th>25</th>\n",
       "      <td>2010 FIFA World Cup South Africa</td>\n",
       "      <td>PlayStation3</td>\n",
       "      <td>27-Apr-10</td>\n",
       "      <td>82</td>\n",
       "      <td>7.8</td>\n",
       "      <td>EACanada</td>\n",
       "      <td>Sports,Traditional,Team,Soccer,Sim,Sim</td>\n",
       "      <td>56</td>\n",
       "      <td>65</td>\n",
       "      <td>FIFA</td>\n",
       "      <td>1.23</td>\n",
       "    </tr>\n",
       "    <tr>\n",
       "      <th>26</th>\n",
       "      <td>2014 FIFA World Cup Brazil</td>\n",
       "      <td>PlayStation3</td>\n",
       "      <td>15-Apr-14</td>\n",
       "      <td>73</td>\n",
       "      <td>4.5</td>\n",
       "      <td>EACanada</td>\n",
       "      <td>Sports,Traditional,Team,Soccer,Sim</td>\n",
       "      <td>33</td>\n",
       "      <td>93</td>\n",
       "      <td>FIFA</td>\n",
       "      <td>0.61</td>\n",
       "    </tr>\n",
       "    <tr>\n",
       "      <th>35</th>\n",
       "      <td>3D Dot Game Heroes</td>\n",
       "      <td>PlayStation3</td>\n",
       "      <td>11-May-10</td>\n",
       "      <td>77</td>\n",
       "      <td>8.1</td>\n",
       "      <td>SiliconStudio</td>\n",
       "      <td>Role-Playing,Action RPG,Action RPG</td>\n",
       "      <td>66</td>\n",
       "      <td>103</td>\n",
       "      <td>3D Dot Game Heroes</td>\n",
       "      <td>0.57</td>\n",
       "    </tr>\n",
       "    <tr>\n",
       "      <th>39</th>\n",
       "      <td>50 Cent: Blood on the Sand</td>\n",
       "      <td>PlayStation3</td>\n",
       "      <td>24-Feb-09</td>\n",
       "      <td>72</td>\n",
       "      <td>6.8</td>\n",
       "      <td>SwordfishStudios</td>\n",
       "      <td>Action,Shooter,Shooter,Third-Person,Modern,Mod...</td>\n",
       "      <td>37</td>\n",
       "      <td>68</td>\n",
       "      <td>50 Cent: Blood on the Sand</td>\n",
       "      <td>0.19</td>\n",
       "    </tr>\n",
       "    <tr>\n",
       "      <th>94</th>\n",
       "      <td>Ace Combat: Assault Horizon</td>\n",
       "      <td>PlayStation3</td>\n",
       "      <td>11-Oct-11</td>\n",
       "      <td>77</td>\n",
       "      <td>6.9</td>\n",
       "      <td>ProjectAces</td>\n",
       "      <td>Action,Simulation,Flight,Flight,Combat</td>\n",
       "      <td>28</td>\n",
       "      <td>97</td>\n",
       "      <td>Ace Combat</td>\n",
       "      <td>0.74</td>\n",
       "    </tr>\n",
       "    <tr>\n",
       "      <th>120</th>\n",
       "      <td>Agatha Christie: The ABC Murders</td>\n",
       "      <td>PC</td>\n",
       "      <td>4-Feb-16</td>\n",
       "      <td>66</td>\n",
       "      <td>8.5</td>\n",
       "      <td>Kalypso</td>\n",
       "      <td>Adventure,General,Point-and-Click</td>\n",
       "      <td>0</td>\n",
       "      <td>16</td>\n",
       "      <td>Agatha Christie</td>\n",
       "      <td>0.02</td>\n",
       "    </tr>\n",
       "    <tr>\n",
       "      <th>121</th>\n",
       "      <td>Agatha Christie's The ABC Murders</td>\n",
       "      <td>XboxOne</td>\n",
       "      <td>23-Feb-16</td>\n",
       "      <td>66</td>\n",
       "      <td>6.6</td>\n",
       "      <td>Microids</td>\n",
       "      <td>Adventure,3D,Third-Person</td>\n",
       "      <td>7</td>\n",
       "      <td>10</td>\n",
       "      <td>Agatha Christie</td>\n",
       "      <td>0.01</td>\n",
       "    </tr>\n",
       "  </tbody>\n",
       "</table>\n",
       "</div>"
      ],
      "text/plain": [
       "                                 title      platform release-date  score  \\\n",
       "3               007: Quantum of Solace            PC     4-Nov-08     70   \n",
       "4               007: Quantum of Solace  PlayStation3     4-Nov-08     65   \n",
       "16                           1701 A.D.            PC     6-Nov-06     79   \n",
       "25    2010 FIFA World Cup South Africa  PlayStation3    27-Apr-10     82   \n",
       "26          2014 FIFA World Cup Brazil  PlayStation3    15-Apr-14     73   \n",
       "35                  3D Dot Game Heroes  PlayStation3    11-May-10     77   \n",
       "39          50 Cent: Blood on the Sand  PlayStation3    24-Feb-09     72   \n",
       "94         Ace Combat: Assault Horizon  PlayStation3    11-Oct-11     77   \n",
       "120   Agatha Christie: The ABC Murders            PC     4-Feb-16     66   \n",
       "121  Agatha Christie's The ABC Murders       XboxOne    23-Feb-16     66   \n",
       "\n",
       "     user_score         developer  \\\n",
       "3           6.1   Treyarch,Beenox   \n",
       "4           6.6          Treyarch   \n",
       "16          7.8    RelatedDesigns   \n",
       "25          7.8          EACanada   \n",
       "26          4.5          EACanada   \n",
       "35          8.1     SiliconStudio   \n",
       "39          6.8  SwordfishStudios   \n",
       "94          6.9       ProjectAces   \n",
       "120         8.5           Kalypso   \n",
       "121         6.6          Microids   \n",
       "\n",
       "                                                 genre  critics  users  \\\n",
       "3    Action,General,Shooter,Shooter,First-Person,Mo...       18     64   \n",
       "4    Action,General,Shooter,Shooter,First-Person,Mo...       42     59   \n",
       "16        Strategy,Real-Time,Historic,General,Historic       30     45   \n",
       "25              Sports,Traditional,Team,Soccer,Sim,Sim       56     65   \n",
       "26                  Sports,Traditional,Team,Soccer,Sim       33     93   \n",
       "35                  Role-Playing,Action RPG,Action RPG       66    103   \n",
       "39   Action,Shooter,Shooter,Third-Person,Modern,Mod...       37     68   \n",
       "94              Action,Simulation,Flight,Flight,Combat       28     97   \n",
       "120                  Adventure,General,Point-and-Click        0     16   \n",
       "121                          Adventure,3D,Third-Person        7     10   \n",
       "\n",
       "                      franchise  global_sales  \n",
       "3        007: Quantum of Solace          0.03  \n",
       "4        007: Quantum of Solace          1.14  \n",
       "16                    1701 A.D.          0.30  \n",
       "25                         FIFA          1.23  \n",
       "26                         FIFA          0.61  \n",
       "35           3D Dot Game Heroes          0.57  \n",
       "39   50 Cent: Blood on the Sand          0.19  \n",
       "94                   Ace Combat          0.74  \n",
       "120             Agatha Christie          0.02  \n",
       "121             Agatha Christie          0.01  "
      ]
     },
     "execution_count": 2,
     "metadata": {},
     "output_type": "execute_result"
    }
   ],
   "source": [
    "data = Path('/Users/Sheem/OneDrive/Desktop/Analysis Projects/Final Project/test_table_2.csv')\n",
    "df = pd.read_csv(data)\n",
    "                 \n",
    "df = df.dropna()\n",
    "\n",
    "df.head(10)"
   ]
  },
  {
   "cell_type": "code",
   "execution_count": 3,
   "id": "55f5228d",
   "metadata": {},
   "outputs": [],
   "source": [
    "# Create our features\n",
    "X = pd.get_dummies(df.drop('global_sales', axis=1))\n",
    "\n",
    "# Create our target\n",
    "y = df[\"global_sales\"]"
   ]
  },
  {
   "cell_type": "code",
   "execution_count": 4,
   "id": "0d60218f",
   "metadata": {},
   "outputs": [
    {
     "data": {
      "image/png": "[encoded data removed]",
      "text/plain": [
       "<Figure size 432x288 with 1 Axes>"
      ]
     },
     "metadata": {
      "needs_background": "light"
     },
     "output_type": "display_data"
    }
   ],
   "source": [
    "#17.2.3\n",
    "plt.scatter(df.score, df.global_sales)\n",
    "plt.xlabel('score')\n",
    "plt.ylabel('global_sales')\n",
    "plt.show()"
   ]
  },
  {
   "cell_type": "code",
   "execution_count": 5,
   "id": "ea053a9f",
   "metadata": {},
   "outputs": [
    {
     "data": {
      "text/plain": [
       "0.02    68\n",
       "0.03    55\n",
       "0.04    44\n",
       "0.05    37\n",
       "0.01    33\n",
       "        ..\n",
       "3.62     1\n",
       "5.07     1\n",
       "8.16     1\n",
       "1.11     1\n",
       "1.32     1\n",
       "Name: global_sales, Length: 301, dtype: int64"
      ]
     },
     "execution_count": 5,
     "metadata": {},
     "output_type": "execute_result"
    }
   ],
   "source": [
    "y.value_counts()"
   ]
  },
  {
   "cell_type": "code",
   "execution_count": 6,
   "id": "c57cdd55",
   "metadata": {},
   "outputs": [],
   "source": [
    "X = df.score.values.reshape(-1, 1)"
   ]
  },
  {
   "cell_type": "code",
   "execution_count": 7,
   "id": "443a21bd",
   "metadata": {},
   "outputs": [
    {
     "data": {
      "text/plain": [
       "array([[70],\n",
       "       [65],\n",
       "       [79],\n",
       "       [82],\n",
       "       [73]], dtype=int64)"
      ]
     },
     "execution_count": 7,
     "metadata": {},
     "output_type": "execute_result"
    }
   ],
   "source": [
    "X[:5]"
   ]
  },
  {
   "cell_type": "code",
   "execution_count": 8,
   "id": "8f17a30f",
   "metadata": {},
   "outputs": [
    {
     "data": {
      "text/plain": [
       "(1132, 1)"
      ]
     },
     "execution_count": 8,
     "metadata": {},
     "output_type": "execute_result"
    }
   ],
   "source": [
    "X.shape"
   ]
  },
  {
   "cell_type": "code",
   "execution_count": 9,
   "id": "daeef109",
   "metadata": {},
   "outputs": [],
   "source": [
    "y = df.global_sales"
   ]
  },
  {
   "cell_type": "code",
   "execution_count": 10,
   "id": "7ccb1539",
   "metadata": {},
   "outputs": [],
   "source": [
    "model = LinearRegression()"
   ]
  },
  {
   "cell_type": "code",
   "execution_count": 11,
   "id": "91e24e93",
   "metadata": {},
   "outputs": [
    {
     "data": {
      "text/plain": [
       "LinearRegression()"
      ]
     },
     "execution_count": 11,
     "metadata": {},
     "output_type": "execute_result"
    }
   ],
   "source": [
    "model.fit(X, y)"
   ]
  },
  {
   "cell_type": "code",
   "execution_count": 12,
   "id": "1085aeed",
   "metadata": {},
   "outputs": [
    {
     "name": "stdout",
     "output_type": "stream",
     "text": [
      "(1132,)\n"
     ]
    }
   ],
   "source": [
    "y_pred = model.predict(X)\n",
    "print(y_pred.shape)"
   ]
  },
  {
   "cell_type": "code",
   "execution_count": 13,
   "id": "17cbfa1a",
   "metadata": {},
   "outputs": [
    {
     "data": {
      "image/png": "[encoded data removed]",
      "text/plain": [
       "<Figure size 432x288 with 1 Axes>"
      ]
     },
     "metadata": {
      "needs_background": "light"
     },
     "output_type": "display_data"
    }
   ],
   "source": [
    "plt.scatter(X, y)\n",
    "plt.plot(X, y_pred, color='red')\n",
    "plt.show()"
   ]
  },
  {
   "cell_type": "code",
   "execution_count": 14,
   "id": "5475192c",
   "metadata": {},
   "outputs": [
    {
     "name": "stdout",
     "output_type": "stream",
     "text": [
      "[0.08138985]\n",
      "-5.559850594553499\n"
     ]
    }
   ],
   "source": [
    "#17.2.3\n",
    "print(model.coef_)\n",
    "print(model.intercept_)"
   ]
  },
  {
   "cell_type": "code",
   "execution_count": 15,
   "id": "63462624",
   "metadata": {},
   "outputs": [
    {
     "data": {
      "text/plain": [
       "(849, 1)"
      ]
     },
     "execution_count": 15,
     "metadata": {},
     "output_type": "execute_result"
    }
   ],
   "source": [
    "from sklearn.model_selection import train_test_split\n",
    "X_train, X_test, y_train, y_test = train_test_split(X, y, random_state=0)\n",
    "X_train.shape"
   ]
  },
  {
   "cell_type": "code",
   "execution_count": 16,
   "id": "56fedd28",
   "metadata": {},
   "outputs": [
    {
     "data": {
      "text/plain": [
       "LogisticRegression(random_state=1)"
      ]
     },
     "execution_count": 16,
     "metadata": {},
     "output_type": "execute_result"
    }
   ],
   "source": [
    "from sklearn.linear_model import LogisticRegression\n",
    "classifier = LogisticRegression(solver='lbfgs', random_state=1)\n",
    "classifier"
   ]
  },
  {
   "cell_type": "code",
   "execution_count": 17,
   "id": "dcf61c31",
   "metadata": {},
   "outputs": [
    {
     "data": {
      "text/plain": [
       "LogisticRegression()"
      ]
     },
     "execution_count": 17,
     "metadata": {},
     "output_type": "execute_result"
    }
   ],
   "source": [
    "LogisticRegression(C=1.0, class_weight=None, dual=False, fit_intercept=True,\n",
    "                       intercept_scaling=1, l1_ratio=None, max_iter=100,\n",
    "                       multi_class='auto', n_jobs=None, penalty='l2',\n",
    "                       random_state=None, solver='lbfgs', tol=0.0001, verbose=0,\n",
    "                       warm_start=False)\n"
   ]
  },
  {
   "cell_type": "code",
   "execution_count": 18,
   "id": "6aecb0e8",
   "metadata": {},
   "outputs": [
    {
     "data": {
      "text/plain": [
       "LinearRegression()"
      ]
     },
     "execution_count": 18,
     "metadata": {},
     "output_type": "execute_result"
    }
   ],
   "source": [
    "model.fit(X, y)"
   ]
  },
  {
   "cell_type": "code",
   "execution_count": null,
   "id": "72af52ae",
   "metadata": {},
   "outputs": [],
   "source": [
    "print(f\"Training Data Score: {classifier.score(X_train, y_train)}\")\n",
    "print(f\"Testing Data Score: {classifier.score(X_test, y_test)}\")\n"
   ]
  },
  {
   "cell_type": "code",
   "execution_count": null,
   "id": "a5a4cfd5",
   "metadata": {},
   "outputs": [],
   "source": [
    "from sklearn.metrics import accuracy_score\n",
    "accuracy_score(y_test, prediction)"
   ]
  },
  {
   "cell_type": "code",
   "execution_count": null,
   "id": "98392cfa",
   "metadata": {},
   "outputs": [],
   "source": [
    "import numpy as np\n",
    "new_data = np.array([[-2, 6]])\n",
    "plt.scatter(X[:, 0], X[:, 1], c=y)\n",
    "plt.scatter(new_data[0, 0], new_data[0, 1], c=\"r\", marker=\"o\", s=100)\n",
    "plt.show()"
   ]
  },
  {
   "cell_type": "code",
   "execution_count": null,
   "id": "7ce7cc3d",
   "metadata": {},
   "outputs": [],
   "source": [
    "predictions = classifier.predict(X_test)\n",
    "pd.DataFrame({\"Prediction\": predictions, \"Actual\": y_test})"
   ]
  },
  {
   "cell_type": "code",
   "execution_count": null,
   "id": "a0b39924",
   "metadata": {},
   "outputs": [],
   "source": [
    "# Creating a StandardScaler instance.\n",
    "scaler = StandardScaler()\n",
    "\n",
    "# Fitting the Standard Scaler with the training data.\n",
    "X_scaler = scaler.fit(X_train)\n",
    "\n",
    "# Scaling the data.\n",
    "X_train_scaled = X_scaler.transform(X_train)\n",
    "X_test_scaled = X_scaler.transform(X_test)\n"
   ]
  },
  {
   "cell_type": "code",
   "execution_count": null,
   "id": "44766224",
   "metadata": {},
   "outputs": [],
   "source": [
    "# Making predictions using the testing data.\n",
    "predictions = pd.predict(X_test_scaled)"
   ]
  },
  {
   "cell_type": "code",
   "execution_count": null,
   "id": "0fa49610",
   "metadata": {},
   "outputs": [],
   "source": [
    "# Calculating the confusion matrix.\n",
    "cm = confusion_matrix(y_test, predictions)\n",
    "\n",
    "# Create a DataFrame from the confusion matrix.\n",
    "cm_df = pd.DataFrame(\n",
    "    cm, index=[\"Actual 0\", \"Actual 1\"], columns=[\"Predicted 0\", \"Predicted 1\"])\n",
    "\n",
    "cm_df"
   ]
  },
  {
   "cell_type": "code",
   "execution_count": null,
   "id": "482a32f2",
   "metadata": {},
   "outputs": [],
   "source": [
    "# Calculating the accuracy score.\n",
    "acc_score = accuracy_score(y_test, predictions)"
   ]
  },
  {
   "cell_type": "code",
   "execution_count": null,
   "id": "571ae99a",
   "metadata": {},
   "outputs": [],
   "source": [
    "# Displaying results\n",
    "print(\"Confusion Matrix\")\n",
    "display(df)\n",
    "print(f\"Accuracy Score : {acc_score}\")\n",
    "print(\"Classification Report\")\n",
    "print(classification_report(y_test, predictions))"
   ]
  },
  {
   "cell_type": "code",
   "execution_count": null,
   "id": "582dcd4c",
   "metadata": {},
   "outputs": [],
   "source": [
    "# Calculate feature importance in the Random Forest model.\n",
    "importances = rf_model.feature_importances_\n",
    "importances"
   ]
  },
  {
   "cell_type": "code",
   "execution_count": null,
   "id": "914a22f1",
   "metadata": {},
   "outputs": [],
   "source": []
  }
 ],
 "metadata": {
  "kernelspec": {
   "display_name": "mlenv",
   "language": "python",
   "name": "mlenv"
  },
  "language_info": {
   "codemirror_mode": {
    "name": "ipython",
    "version": 3
   },
   "file_extension": ".py",
   "mimetype": "text/x-python",
   "name": "python",
   "nbconvert_exporter": "python",
   "pygments_lexer": "ipython3",
   "version": "3.7.11"
  }
 },
 "nbformat": 4,
 "nbformat_minor": 5
}
