{
 "cells": [
  {
   "cell_type": "code",
   "execution_count": 6,
   "id": "40fa852e",
   "metadata": {},
   "outputs": [],
   "source": [
    "import pandas as pd\n",
    "from pathlib import Path\n",
    "import matplotlib.pyplot as plt\n",
    "from sklearn.linear_model import LogisticRegression"
   ]
  },
  {
   "cell_type": "code",
   "execution_count": 7,
   "id": "5a10753a",
   "metadata": {},
   "outputs": [
    {
     "data": {
      "text/html": [
       "<div>\n",
       "<style scoped>\n",
       "    .dataframe tbody tr th:only-of-type {\n",
       "        vertical-align: middle;\n",
       "    }\n",
       "\n",
       "    .dataframe tbody tr th {\n",
       "        vertical-align: top;\n",
       "    }\n",
       "\n",
       "    .dataframe thead th {\n",
       "        text-align: right;\n",
       "    }\n",
       "</style>\n",
       "<table border=\"1\" class=\"dataframe\">\n",
       "  <thead>\n",
       "    <tr style=\"text-align: right;\">\n",
       "      <th></th>\n",
       "      <th>name</th>\n",
       "      <th>platform</th>\n",
       "      <th>r-date</th>\n",
       "      <th>score</th>\n",
       "      <th>user score</th>\n",
       "      <th>developer</th>\n",
       "      <th>genre</th>\n",
       "      <th>players</th>\n",
       "      <th>critics</th>\n",
       "      <th>users</th>\n",
       "    </tr>\n",
       "  </thead>\n",
       "  <tbody>\n",
       "    <tr>\n",
       "      <th>0</th>\n",
       "      <td>The Legend of Zelda: Ocarina of Time</td>\n",
       "      <td>Nintendo64</td>\n",
       "      <td>23-Nov-98</td>\n",
       "      <td>99</td>\n",
       "      <td>9.1</td>\n",
       "      <td>Nintendo</td>\n",
       "      <td>Action Adventure,Fantasy</td>\n",
       "      <td>1 Player</td>\n",
       "      <td>22</td>\n",
       "      <td>5749</td>\n",
       "    </tr>\n",
       "    <tr>\n",
       "      <th>1</th>\n",
       "      <td>Tony Hawk's Pro Skater 2</td>\n",
       "      <td>PlayStation</td>\n",
       "      <td>20-Sep-00</td>\n",
       "      <td>98</td>\n",
       "      <td>7.4</td>\n",
       "      <td>NeversoftEntertainment</td>\n",
       "      <td>Sports,Alternative,Skateboarding</td>\n",
       "      <td>2-Jan</td>\n",
       "      <td>19</td>\n",
       "      <td>647</td>\n",
       "    </tr>\n",
       "    <tr>\n",
       "      <th>2</th>\n",
       "      <td>Grand Theft Auto IV</td>\n",
       "      <td>PlayStation3</td>\n",
       "      <td>29-Apr-08</td>\n",
       "      <td>98</td>\n",
       "      <td>7.6</td>\n",
       "      <td>RockstarNorth</td>\n",
       "      <td>Action Adventure,Modern,Modern,Open-World</td>\n",
       "      <td>1 Player</td>\n",
       "      <td>64</td>\n",
       "      <td>3806</td>\n",
       "    </tr>\n",
       "    <tr>\n",
       "      <th>3</th>\n",
       "      <td>SoulCalibur</td>\n",
       "      <td>Dreamcast</td>\n",
       "      <td>8-Sep-99</td>\n",
       "      <td>98</td>\n",
       "      <td>8.5</td>\n",
       "      <td>Namco</td>\n",
       "      <td>Action,Fighting,3D</td>\n",
       "      <td>2-Jan</td>\n",
       "      <td>24</td>\n",
       "      <td>324</td>\n",
       "    </tr>\n",
       "    <tr>\n",
       "      <th>4</th>\n",
       "      <td>Grand Theft Auto IV</td>\n",
       "      <td>Xbox360</td>\n",
       "      <td>29-Apr-08</td>\n",
       "      <td>98</td>\n",
       "      <td>7.9</td>\n",
       "      <td>RockstarNorth</td>\n",
       "      <td>Action Adventure,Modern,Modern,Open-World</td>\n",
       "      <td>1 Player</td>\n",
       "      <td>86</td>\n",
       "      <td>3364</td>\n",
       "    </tr>\n",
       "  </tbody>\n",
       "</table>\n",
       "</div>"
      ],
      "text/plain": [
       "                                   name      platform     r-date  score  \\\n",
       "0  The Legend of Zelda: Ocarina of Time    Nintendo64  23-Nov-98     99   \n",
       "1              Tony Hawk's Pro Skater 2   PlayStation  20-Sep-00     98   \n",
       "2                   Grand Theft Auto IV  PlayStation3  29-Apr-08     98   \n",
       "3                           SoulCalibur     Dreamcast   8-Sep-99     98   \n",
       "4                   Grand Theft Auto IV       Xbox360  29-Apr-08     98   \n",
       "\n",
       "  user score               developer  \\\n",
       "0        9.1                Nintendo   \n",
       "1        7.4  NeversoftEntertainment   \n",
       "2        7.6           RockstarNorth   \n",
       "3        8.5                   Namco   \n",
       "4        7.9           RockstarNorth   \n",
       "\n",
       "                                       genre   players  critics  users  \n",
       "0                   Action Adventure,Fantasy  1 Player       22   5749  \n",
       "1           Sports,Alternative,Skateboarding     2-Jan       19    647  \n",
       "2  Action Adventure,Modern,Modern,Open-World  1 Player       64   3806  \n",
       "3                         Action,Fighting,3D     2-Jan       24    324  \n",
       "4  Action Adventure,Modern,Modern,Open-World  1 Player       86   3364  "
      ]
     },
     "execution_count": 7,
     "metadata": {},
     "output_type": "execute_result"
    }
   ],
   "source": [
    "# Read in the data\n",
    "df = pd.read_csv(Path('games-data.csv'))\n",
    "df.head()"
   ]
  },
  {
   "cell_type": "code",
   "execution_count": 13,
   "id": "4eefdd28",
   "metadata": {},
   "outputs": [
    {
     "data": {
      "text/plain": [
       "name          object\n",
       "platform      object\n",
       "r-date        object\n",
       "score          int64\n",
       "user score    object\n",
       "developer     object\n",
       "genre         object\n",
       "players       object\n",
       "critics        int64\n",
       "users          int64\n",
       "dtype: object"
      ]
     },
     "execution_count": 13,
     "metadata": {},
     "output_type": "execute_result"
    }
   ],
   "source": [
    "# Inspect data \n",
    "df.dtypes"
   ]
  },
  {
   "cell_type": "code",
   "execution_count": 16,
   "id": "35c921ad",
   "metadata": {},
   "outputs": [
    {
     "data": {
      "text/plain": [
       "name           0\n",
       "platform       0\n",
       "r-date         0\n",
       "score          0\n",
       "user score     0\n",
       "developer      0\n",
       "genre          0\n",
       "players       22\n",
       "critics        0\n",
       "users          0\n",
       "dtype: int64"
      ]
     },
     "execution_count": 16,
     "metadata": {},
     "output_type": "execute_result"
    }
   ],
   "source": [
    "# Check for null rows\n",
    "df.isnull().sum()"
   ]
  },
  {
   "cell_type": "code",
   "execution_count": 20,
   "id": "f4926e5d",
   "metadata": {},
   "outputs": [
    {
     "data": {
      "text/plain": [
       "Capcom                        298\n",
       "TelltaleGames                 236\n",
       "EASports                      195\n",
       "Konami                        176\n",
       "EACanada                      172\n",
       "                             ... \n",
       "LudicStudios                    1\n",
       "AdelineSoftware                 1\n",
       "Librage                         1\n",
       "Wargaming.net,PershaStudia      1\n",
       "GravityCorporation,Gravity      1\n",
       "Name: developer, Length: 4253, dtype: int64"
      ]
     },
     "execution_count": 20,
     "metadata": {},
     "output_type": "execute_result"
    }
   ],
   "source": [
    "# Get a count of unique values for developers\n",
    "df.developer.value_counts()"
   ]
  },
  {
   "cell_type": "code",
   "execution_count": 17,
   "id": "f2e9ad45",
   "metadata": {},
   "outputs": [
    {
     "data": {
      "text/html": [
       "<div>\n",
       "<style scoped>\n",
       "    .dataframe tbody tr th:only-of-type {\n",
       "        vertical-align: middle;\n",
       "    }\n",
       "\n",
       "    .dataframe tbody tr th {\n",
       "        vertical-align: top;\n",
       "    }\n",
       "\n",
       "    .dataframe thead th {\n",
       "        text-align: right;\n",
       "    }\n",
       "</style>\n",
       "<table border=\"1\" class=\"dataframe\">\n",
       "  <thead>\n",
       "    <tr style=\"text-align: right;\">\n",
       "      <th></th>\n",
       "      <th>platform</th>\n",
       "      <th>r-date</th>\n",
       "      <th>score</th>\n",
       "      <th>user score</th>\n",
       "      <th>developer</th>\n",
       "      <th>genre</th>\n",
       "      <th>critics</th>\n",
       "      <th>users</th>\n",
       "    </tr>\n",
       "  </thead>\n",
       "  <tbody>\n",
       "    <tr>\n",
       "      <th>0</th>\n",
       "      <td>Nintendo64</td>\n",
       "      <td>23-Nov-98</td>\n",
       "      <td>99</td>\n",
       "      <td>9.1</td>\n",
       "      <td>Nintendo</td>\n",
       "      <td>Action Adventure,Fantasy</td>\n",
       "      <td>22</td>\n",
       "      <td>5749</td>\n",
       "    </tr>\n",
       "    <tr>\n",
       "      <th>1</th>\n",
       "      <td>PlayStation</td>\n",
       "      <td>20-Sep-00</td>\n",
       "      <td>98</td>\n",
       "      <td>7.4</td>\n",
       "      <td>NeversoftEntertainment</td>\n",
       "      <td>Sports,Alternative,Skateboarding</td>\n",
       "      <td>19</td>\n",
       "      <td>647</td>\n",
       "    </tr>\n",
       "    <tr>\n",
       "      <th>2</th>\n",
       "      <td>PlayStation3</td>\n",
       "      <td>29-Apr-08</td>\n",
       "      <td>98</td>\n",
       "      <td>7.6</td>\n",
       "      <td>RockstarNorth</td>\n",
       "      <td>Action Adventure,Modern,Modern,Open-World</td>\n",
       "      <td>64</td>\n",
       "      <td>3806</td>\n",
       "    </tr>\n",
       "    <tr>\n",
       "      <th>3</th>\n",
       "      <td>Dreamcast</td>\n",
       "      <td>8-Sep-99</td>\n",
       "      <td>98</td>\n",
       "      <td>8.5</td>\n",
       "      <td>Namco</td>\n",
       "      <td>Action,Fighting,3D</td>\n",
       "      <td>24</td>\n",
       "      <td>324</td>\n",
       "    </tr>\n",
       "    <tr>\n",
       "      <th>4</th>\n",
       "      <td>Xbox360</td>\n",
       "      <td>29-Apr-08</td>\n",
       "      <td>98</td>\n",
       "      <td>7.9</td>\n",
       "      <td>RockstarNorth</td>\n",
       "      <td>Action Adventure,Modern,Modern,Open-World</td>\n",
       "      <td>86</td>\n",
       "      <td>3364</td>\n",
       "    </tr>\n",
       "  </tbody>\n",
       "</table>\n",
       "</div>"
      ],
      "text/plain": [
       "       platform     r-date  score user score               developer  \\\n",
       "0    Nintendo64  23-Nov-98     99        9.1                Nintendo   \n",
       "1   PlayStation  20-Sep-00     98        7.4  NeversoftEntertainment   \n",
       "2  PlayStation3  29-Apr-08     98        7.6           RockstarNorth   \n",
       "3     Dreamcast   8-Sep-99     98        8.5                   Namco   \n",
       "4       Xbox360  29-Apr-08     98        7.9           RockstarNorth   \n",
       "\n",
       "                                       genre  critics  users  \n",
       "0                   Action Adventure,Fantasy       22   5749  \n",
       "1           Sports,Alternative,Skateboarding       19    647  \n",
       "2  Action Adventure,Modern,Modern,Open-World       64   3806  \n",
       "3                         Action,Fighting,3D       24    324  \n",
       "4  Action Adventure,Modern,Modern,Open-World       86   3364  "
      ]
     },
     "execution_count": 17,
     "metadata": {},
     "output_type": "execute_result"
    }
   ],
   "source": [
    "# Drop unneeded columns\n",
    "df = df.drop(['name', 'players'], axis=1)\n",
    "df.head()"
   ]
  },
  {
   "cell_type": "code",
   "execution_count": 18,
   "id": "a6a1814b",
   "metadata": {},
   "outputs": [
    {
     "data": {
      "text/plain": [
       "LogisticRegression(random_state=1)"
      ]
     },
     "execution_count": 18,
     "metadata": {},
     "output_type": "execute_result"
    }
   ],
   "source": [
    "# Create a logistic Regression Model\n",
    "classifier = LogisticRegression(solver='lbfgs', random_state=1)\n",
    "classifier"
   ]
  },
  {
   "cell_type": "code",
   "execution_count": 15,
   "id": "a44fa25c",
   "metadata": {},
   "outputs": [
    {
     "ename": "SyntaxError",
     "evalue": "invalid syntax (Temp/ipykernel_5604/390445131.py, line 3)",
     "output_type": "error",
     "traceback": [
      "\u001b[1;36m  File \u001b[1;32m\"C:\\Users\\edinc\\AppData\\Local\\Temp/ipykernel_5604/390445131.py\"\u001b[1;36m, line \u001b[1;32m3\u001b[0m\n\u001b[1;33m    random_state=1, solver='lbfgs' tol=0.0001, warm_start=False)\u001b[0m\n\u001b[1;37m                                     ^\u001b[0m\n\u001b[1;31mSyntaxError\u001b[0m\u001b[1;31m:\u001b[0m invalid syntax\n"
     ]
    }
   ],
   "source": []
  },
  {
   "cell_type": "code",
   "execution_count": null,
   "id": "c688c6cb",
   "metadata": {},
   "outputs": [],
   "source": []
  }
 ],
 "metadata": {
  "kernelspec": {
   "display_name": "mlenv",
   "language": "python",
   "name": "mlenv"
  },
  "language_info": {
   "codemirror_mode": {
    "name": "ipython",
    "version": 3
   },
   "file_extension": ".py",
   "mimetype": "text/x-python",
   "name": "python",
   "nbconvert_exporter": "python",
   "pygments_lexer": "ipython3",
   "version": "3.7.11"
  }
 },
 "nbformat": 4,
 "nbformat_minor": 5
}
